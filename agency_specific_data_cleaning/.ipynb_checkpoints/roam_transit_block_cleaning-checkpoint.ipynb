{
 "cells": [
  {
   "cell_type": "code",
   "execution_count": 75,
   "metadata": {
    "pycharm": {
     "name": "#%%\n"
    }
   },
   "outputs": [],
   "source": [
    "import pandas as pd\n",
    "import os"
   ]
  },
  {
   "cell_type": "code",
   "execution_count": 76,
   "metadata": {
    "pycharm": {
     "name": "#%%\n"
    }
   },
   "outputs": [],
   "source": [
    "directory = r'C:\\Users\\tdickens\\OneDrive - Hydrogen Technology and Engineering Corporation\\Active Customers\\ARC Zen SW\\04 WIP\\TD\\raw_data\\roam'\n",
    "\n",
    "data = []\n",
    "for csv in os.listdir(directory):\n",
    "    frame = pd.read_csv(\"{}\\{}\" .format(directory,csv))\n",
    "    frame['filename'] = os.path.basename(csv)\n",
    "    data.append(frame)\n",
    "roam_df = pd.concat(data, ignore_index=True)"
   ]
  },
  {
   "cell_type": "code",
   "execution_count": 77,
   "metadata": {
    "pycharm": {
     "name": "#%%\n"
    }
   },
   "outputs": [],
   "source": [
    "roam_df['Bus ID'] = roam_df['filename'].str.split().apply(lambda x:x[1].split(\".\")[0])\n",
    "roam_df['Date'] = roam_df['filename'].str.split().apply(lambda x:x[0])\n",
    "r_df = roam_df.drop(roam_df[roam_df['Latitude'] == (-1)].index)"
   ]
  },
  {
   "cell_type": "code",
   "execution_count": 78,
   "metadata": {
    "pycharm": {
     "name": "#%%\n"
    }
   },
   "outputs": [
    {
     "name": "stdout",
     "output_type": "stream",
     "text": [
      "Rows dropped:\n",
      "1879\n"
     ]
    }
   ],
   "source": [
    "dropped_rows = roam_df.shape[0] - r_df.shape[0]\n",
    "print(\"Rows dropped:\\n{}\" .format(dropped_rows))"
   ]
  },
  {
   "cell_type": "code",
   "execution_count": 79,
   "metadata": {
    "pycharm": {
     "name": "#%%\n"
    }
   },
   "outputs": [],
   "source": [
    "r_df.to_csv(\"../raw_data/block_db_lists/roam.csv\", index=False)"
   ]
  },
  {
   "cell_type": "code",
   "execution_count": 93,
   "metadata": {
    "pycharm": {
     "name": "#%%\n"
    }
   },
   "outputs": [
    {
     "data": {
      "text/html": [
       "<div>\n",
       "<style scoped>\n",
       "    .dataframe tbody tr th:only-of-type {\n",
       "        vertical-align: middle;\n",
       "    }\n",
       "\n",
       "    .dataframe tbody tr th {\n",
       "        vertical-align: top;\n",
       "    }\n",
       "\n",
       "    .dataframe thead th {\n",
       "        text-align: right;\n",
       "    }\n",
       "</style>\n",
       "<table border=\"1\" class=\"dataframe\">\n",
       "  <thead>\n",
       "    <tr style=\"text-align: right;\">\n",
       "      <th></th>\n",
       "      <th>Bus ID</th>\n",
       "      <th>Latitude</th>\n",
       "      <th>Longitude</th>\n",
       "      <th>Speed</th>\n",
       "      <th>Time</th>\n",
       "      <th>filename</th>\n",
       "      <th>Date</th>\n",
       "      <th>Elevation</th>\n",
       "      <th>DateTime</th>\n",
       "    </tr>\n",
       "  </thead>\n",
       "  <tbody>\n",
       "    <tr>\n",
       "      <th>0</th>\n",
       "      <td>1033_SummerWolf</td>\n",
       "      <td>51.19189</td>\n",
       "      <td>-115.55418</td>\n",
       "      <td>5.076</td>\n",
       "      <td>2022/03/15 05:42:46</td>\n",
       "      <td>1033_SummerWolf 2022/03/15</td>\n",
       "      <td>2022/03/15</td>\n",
       "      <td>1401</td>\n",
       "      <td>2022-03-15 05:42:46</td>\n",
       "    </tr>\n",
       "    <tr>\n",
       "      <th>1</th>\n",
       "      <td>1033_SummerWolf</td>\n",
       "      <td>51.19189</td>\n",
       "      <td>-115.55420</td>\n",
       "      <td>5.292</td>\n",
       "      <td>2022/03/15 05:42:47</td>\n",
       "      <td>1033_SummerWolf 2022/03/15</td>\n",
       "      <td>2022/03/15</td>\n",
       "      <td>1401</td>\n",
       "      <td>2022-03-15 05:42:47</td>\n",
       "    </tr>\n",
       "    <tr>\n",
       "      <th>2</th>\n",
       "      <td>1033_SummerWolf</td>\n",
       "      <td>51.19187</td>\n",
       "      <td>-115.55427</td>\n",
       "      <td>5.148</td>\n",
       "      <td>2022/03/15 05:42:49</td>\n",
       "      <td>1033_SummerWolf 2022/03/15</td>\n",
       "      <td>2022/03/15</td>\n",
       "      <td>1401</td>\n",
       "      <td>2022-03-15 05:42:49</td>\n",
       "    </tr>\n",
       "    <tr>\n",
       "      <th>3</th>\n",
       "      <td>1033_SummerWolf</td>\n",
       "      <td>51.19187</td>\n",
       "      <td>-115.55430</td>\n",
       "      <td>3.132</td>\n",
       "      <td>2022/03/15 05:42:50</td>\n",
       "      <td>1033_SummerWolf 2022/03/15</td>\n",
       "      <td>2022/03/15</td>\n",
       "      <td>1401</td>\n",
       "      <td>2022-03-15 05:42:50</td>\n",
       "    </tr>\n",
       "    <tr>\n",
       "      <th>4</th>\n",
       "      <td>1033_SummerWolf</td>\n",
       "      <td>51.19187</td>\n",
       "      <td>-115.55431</td>\n",
       "      <td>2.448</td>\n",
       "      <td>2022/03/15 05:42:51</td>\n",
       "      <td>1033_SummerWolf 2022/03/15</td>\n",
       "      <td>2022/03/15</td>\n",
       "      <td>1401</td>\n",
       "      <td>2022-03-15 05:42:51</td>\n",
       "    </tr>\n",
       "  </tbody>\n",
       "</table>\n",
       "</div>"
      ],
      "text/plain": [
       "            Bus ID  Latitude  Longitude  Speed                 Time  \\\n",
       "0  1033_SummerWolf  51.19189 -115.55418  5.076  2022/03/15 05:42:46   \n",
       "1  1033_SummerWolf  51.19189 -115.55420  5.292  2022/03/15 05:42:47   \n",
       "2  1033_SummerWolf  51.19187 -115.55427  5.148  2022/03/15 05:42:49   \n",
       "3  1033_SummerWolf  51.19187 -115.55430  3.132  2022/03/15 05:42:50   \n",
       "4  1033_SummerWolf  51.19187 -115.55431  2.448  2022/03/15 05:42:51   \n",
       "\n",
       "                     filename        Date  Elevation            DateTime  \n",
       "0  1033_SummerWolf 2022/03/15  2022/03/15       1401 2022-03-15 05:42:46  \n",
       "1  1033_SummerWolf 2022/03/15  2022/03/15       1401 2022-03-15 05:42:47  \n",
       "2  1033_SummerWolf 2022/03/15  2022/03/15       1401 2022-03-15 05:42:49  \n",
       "3  1033_SummerWolf 2022/03/15  2022/03/15       1401 2022-03-15 05:42:50  \n",
       "4  1033_SummerWolf 2022/03/15  2022/03/15       1401 2022-03-15 05:42:51  "
      ]
     },
     "execution_count": 93,
     "metadata": {},
     "output_type": "execute_result"
    }
   ],
   "source": [
    "df = pd.read_csv('../raw_data/block_db_lists/roam_elev.csv')\n",
    "df.drop(columns=['Driver ID', 'Route ID', 'Heading', 'Stop ID'], inplace=True)\n",
    "df['filename'] = df['Bus ID'] + \" \" + df['Date']\n",
    "df['Speed'] = df['Speed'] * 3.6\n",
    "df.rename(columns={'SAMPLE_1':'Elevation'}, inplace=True)\n",
    "df['DateTime'] = df['Time']\n",
    "df['DateTime'] = pd.to_datetime(df['DateTime'])\n",
    "df.head()"
   ]
  },
  {
   "cell_type": "code",
   "execution_count": 102,
   "metadata": {
    "pycharm": {
     "name": "#%%\n"
    }
   },
   "outputs": [
    {
     "data": {
      "text/plain": [
       "{'1030_Hare 2022/03/15':           Bus ID  Latitude  Longitude  Speed                 Time  \\\n",
       " 33288  1030_Hare  51.19143 -115.55373  0.972  2022/03/15 06:02:31   \n",
       " 33289  1030_Hare  51.19139 -115.55367  0.396  2022/03/15 06:02:32   \n",
       " 33290  1030_Hare  51.19137 -115.55368  0.684  2022/03/15 06:02:33   \n",
       " 33291  1030_Hare  51.19135 -115.55368  1.584  2022/03/15 06:02:35   \n",
       " 33292  1030_Hare  51.19137 -115.55372  1.044  2022/03/15 06:02:36   \n",
       " ...          ...       ...        ...    ...                  ...   \n",
       " 35477  1030_Hare  51.17955 -115.56992  0.036  2022/03/15 06:46:44   \n",
       " 35478  1030_Hare  51.17956 -115.56992  0.072  2022/03/15 06:46:45   \n",
       " 35479  1030_Hare  51.17956 -115.56993  0.036  2022/03/15 06:46:47   \n",
       " 35480  1030_Hare  51.17956 -115.56993  0.036  2022/03/15 06:46:48   \n",
       " 35481  1030_Hare  51.17956 -115.56993  0.036  2022/03/15 06:46:49   \n",
       " \n",
       "                    filename        Date  Elevation            DateTime  \n",
       " 33288  1030_Hare 2022/03/15  2022/03/15       1401 2022-03-15 06:02:31  \n",
       " 33289  1030_Hare 2022/03/15  2022/03/15       1401 2022-03-15 06:02:32  \n",
       " 33290  1030_Hare 2022/03/15  2022/03/15       1401 2022-03-15 06:02:33  \n",
       " 33291  1030_Hare 2022/03/15  2022/03/15       1401 2022-03-15 06:02:35  \n",
       " 33292  1030_Hare 2022/03/15  2022/03/15       1401 2022-03-15 06:02:36  \n",
       " ...                     ...         ...        ...                 ...  \n",
       " 35477  1030_Hare 2022/03/15  2022/03/15       1402 2022-03-15 06:46:44  \n",
       " 35478  1030_Hare 2022/03/15  2022/03/15       1402 2022-03-15 06:46:45  \n",
       " 35479  1030_Hare 2022/03/15  2022/03/15       1402 2022-03-15 06:46:47  \n",
       " 35480  1030_Hare 2022/03/15  2022/03/15       1402 2022-03-15 06:46:48  \n",
       " 35481  1030_Hare 2022/03/15  2022/03/15       1402 2022-03-15 06:46:49  \n",
       " \n",
       " [2194 rows x 9 columns]}"
      ]
     },
     "execution_count": 102,
     "metadata": {},
     "output_type": "execute_result"
    }
   ],
   "source": [
    "blocks = df['filename'].unique().tolist()\n",
    "\n",
    "df_dict = {block: df.loc[df['filename'] == block] for block in blocks}\n",
    "df_dict"
   ]
  },
  {
   "cell_type": "code",
   "execution_count": 106,
   "metadata": {
    "pycharm": {
     "name": "#%%\n"
    },
    "scrolled": false
   },
   "outputs": [
    {
     "ename": "KeyError",
     "evalue": "0",
     "output_type": "error",
     "traceback": [
      "\u001b[1;31m---------------------------------------------------------------------------\u001b[0m",
      "\u001b[1;31mKeyError\u001b[0m                                  Traceback (most recent call last)",
      "File \u001b[1;32m~\\Anaconda3\\lib\\site-packages\\pandas\\core\\indexes\\base.py:3621\u001b[0m, in \u001b[0;36mIndex.get_loc\u001b[1;34m(self, key, method, tolerance)\u001b[0m\n\u001b[0;32m   3620\u001b[0m \u001b[38;5;28;01mtry\u001b[39;00m:\n\u001b[1;32m-> 3621\u001b[0m     \u001b[38;5;28;01mreturn\u001b[39;00m \u001b[38;5;28;43mself\u001b[39;49m\u001b[38;5;241;43m.\u001b[39;49m\u001b[43m_engine\u001b[49m\u001b[38;5;241;43m.\u001b[39;49m\u001b[43mget_loc\u001b[49m\u001b[43m(\u001b[49m\u001b[43mcasted_key\u001b[49m\u001b[43m)\u001b[49m\n\u001b[0;32m   3622\u001b[0m \u001b[38;5;28;01mexcept\u001b[39;00m \u001b[38;5;167;01mKeyError\u001b[39;00m \u001b[38;5;28;01mas\u001b[39;00m err:\n",
      "File \u001b[1;32m~\\Anaconda3\\lib\\site-packages\\pandas\\_libs\\index.pyx:136\u001b[0m, in \u001b[0;36mpandas._libs.index.IndexEngine.get_loc\u001b[1;34m()\u001b[0m\n",
      "File \u001b[1;32m~\\Anaconda3\\lib\\site-packages\\pandas\\_libs\\index.pyx:163\u001b[0m, in \u001b[0;36mpandas._libs.index.IndexEngine.get_loc\u001b[1;34m()\u001b[0m\n",
      "File \u001b[1;32mpandas\\_libs\\hashtable_class_helper.pxi:2131\u001b[0m, in \u001b[0;36mpandas._libs.hashtable.Int64HashTable.get_item\u001b[1;34m()\u001b[0m\n",
      "File \u001b[1;32mpandas\\_libs\\hashtable_class_helper.pxi:2140\u001b[0m, in \u001b[0;36mpandas._libs.hashtable.Int64HashTable.get_item\u001b[1;34m()\u001b[0m\n",
      "\u001b[1;31mKeyError\u001b[0m: 0",
      "\nThe above exception was the direct cause of the following exception:\n",
      "\u001b[1;31mKeyError\u001b[0m                                  Traceback (most recent call last)",
      "Input \u001b[1;32mIn [106]\u001b[0m, in \u001b[0;36m<cell line: 1>\u001b[1;34m()\u001b[0m\n\u001b[0;32m      1\u001b[0m \u001b[38;5;28;01mfor\u001b[39;00m df \u001b[38;5;129;01min\u001b[39;00m df_dict\u001b[38;5;241m.\u001b[39mvalues():\n\u001b[1;32m----> 2\u001b[0m    init_time \u001b[38;5;241m=\u001b[39m pd\u001b[38;5;241m.\u001b[39mto_datetime(\u001b[43mdf\u001b[49m\u001b[38;5;241;43m.\u001b[39;49m\u001b[43mloc\u001b[49m\u001b[43m[\u001b[49m\u001b[38;5;241;43m0\u001b[39;49m\u001b[43m,\u001b[49m\u001b[43m \u001b[49m\u001b[38;5;124;43m'\u001b[39;49m\u001b[38;5;124;43mTime\u001b[39;49m\u001b[38;5;124;43m'\u001b[39;49m\u001b[43m]\u001b[49m)\n\u001b[0;32m      3\u001b[0m    df[\u001b[38;5;124m'\u001b[39m\u001b[38;5;124mTime\u001b[39m\u001b[38;5;124m'\u001b[39m] \u001b[38;5;241m=\u001b[39m ((df[\u001b[38;5;124m'\u001b[39m\u001b[38;5;124mDateTime\u001b[39m\u001b[38;5;124m'\u001b[39m]) \u001b[38;5;241m-\u001b[39m init_time) \u001b[38;5;241m/\u001b[39m pd\u001b[38;5;241m.\u001b[39mTimedelta( seconds\u001b[38;5;241m=\u001b[39m\u001b[38;5;241m1\u001b[39m)\n",
      "File \u001b[1;32m~\\Anaconda3\\lib\\site-packages\\pandas\\core\\indexing.py:960\u001b[0m, in \u001b[0;36m_LocationIndexer.__getitem__\u001b[1;34m(self, key)\u001b[0m\n\u001b[0;32m    958\u001b[0m     key \u001b[38;5;241m=\u001b[39m \u001b[38;5;28mtuple\u001b[39m(com\u001b[38;5;241m.\u001b[39mapply_if_callable(x, \u001b[38;5;28mself\u001b[39m\u001b[38;5;241m.\u001b[39mobj) \u001b[38;5;28;01mfor\u001b[39;00m x \u001b[38;5;129;01min\u001b[39;00m key)\n\u001b[0;32m    959\u001b[0m     \u001b[38;5;28;01mif\u001b[39;00m \u001b[38;5;28mself\u001b[39m\u001b[38;5;241m.\u001b[39m_is_scalar_access(key):\n\u001b[1;32m--> 960\u001b[0m         \u001b[38;5;28;01mreturn\u001b[39;00m \u001b[38;5;28;43mself\u001b[39;49m\u001b[38;5;241;43m.\u001b[39;49m\u001b[43mobj\u001b[49m\u001b[38;5;241;43m.\u001b[39;49m\u001b[43m_get_value\u001b[49m\u001b[43m(\u001b[49m\u001b[38;5;241;43m*\u001b[39;49m\u001b[43mkey\u001b[49m\u001b[43m,\u001b[49m\u001b[43m \u001b[49m\u001b[43mtakeable\u001b[49m\u001b[38;5;241;43m=\u001b[39;49m\u001b[38;5;28;43mself\u001b[39;49m\u001b[38;5;241;43m.\u001b[39;49m\u001b[43m_takeable\u001b[49m\u001b[43m)\u001b[49m\n\u001b[0;32m    961\u001b[0m     \u001b[38;5;28;01mreturn\u001b[39;00m \u001b[38;5;28mself\u001b[39m\u001b[38;5;241m.\u001b[39m_getitem_tuple(key)\n\u001b[0;32m    962\u001b[0m \u001b[38;5;28;01melse\u001b[39;00m:\n\u001b[0;32m    963\u001b[0m     \u001b[38;5;66;03m# we by definition only have the 0th axis\u001b[39;00m\n",
      "File \u001b[1;32m~\\Anaconda3\\lib\\site-packages\\pandas\\core\\frame.py:3622\u001b[0m, in \u001b[0;36mDataFrame._get_value\u001b[1;34m(self, index, col, takeable)\u001b[0m\n\u001b[0;32m   3616\u001b[0m engine \u001b[38;5;241m=\u001b[39m \u001b[38;5;28mself\u001b[39m\u001b[38;5;241m.\u001b[39mindex\u001b[38;5;241m.\u001b[39m_engine\n\u001b[0;32m   3618\u001b[0m \u001b[38;5;28;01mif\u001b[39;00m \u001b[38;5;129;01mnot\u001b[39;00m \u001b[38;5;28misinstance\u001b[39m(\u001b[38;5;28mself\u001b[39m\u001b[38;5;241m.\u001b[39mindex, MultiIndex):\n\u001b[0;32m   3619\u001b[0m     \u001b[38;5;66;03m# CategoricalIndex: Trying to use the engine fastpath may give incorrect\u001b[39;00m\n\u001b[0;32m   3620\u001b[0m     \u001b[38;5;66;03m#  results if our categories are integers that dont match our codes\u001b[39;00m\n\u001b[0;32m   3621\u001b[0m     \u001b[38;5;66;03m# IntervalIndex: IntervalTree has no get_loc\u001b[39;00m\n\u001b[1;32m-> 3622\u001b[0m     row \u001b[38;5;241m=\u001b[39m \u001b[38;5;28;43mself\u001b[39;49m\u001b[38;5;241;43m.\u001b[39;49m\u001b[43mindex\u001b[49m\u001b[38;5;241;43m.\u001b[39;49m\u001b[43mget_loc\u001b[49m\u001b[43m(\u001b[49m\u001b[43mindex\u001b[49m\u001b[43m)\u001b[49m\n\u001b[0;32m   3623\u001b[0m     \u001b[38;5;28;01mreturn\u001b[39;00m series\u001b[38;5;241m.\u001b[39m_values[row]\n\u001b[0;32m   3625\u001b[0m \u001b[38;5;66;03m# For MultiIndex going through engine effectively restricts us to\u001b[39;00m\n\u001b[0;32m   3626\u001b[0m \u001b[38;5;66;03m#  same-length tuples; see test_get_set_value_no_partial_indexing\u001b[39;00m\n",
      "File \u001b[1;32m~\\Anaconda3\\lib\\site-packages\\pandas\\core\\indexes\\base.py:3623\u001b[0m, in \u001b[0;36mIndex.get_loc\u001b[1;34m(self, key, method, tolerance)\u001b[0m\n\u001b[0;32m   3621\u001b[0m     \u001b[38;5;28;01mreturn\u001b[39;00m \u001b[38;5;28mself\u001b[39m\u001b[38;5;241m.\u001b[39m_engine\u001b[38;5;241m.\u001b[39mget_loc(casted_key)\n\u001b[0;32m   3622\u001b[0m \u001b[38;5;28;01mexcept\u001b[39;00m \u001b[38;5;167;01mKeyError\u001b[39;00m \u001b[38;5;28;01mas\u001b[39;00m err:\n\u001b[1;32m-> 3623\u001b[0m     \u001b[38;5;28;01mraise\u001b[39;00m \u001b[38;5;167;01mKeyError\u001b[39;00m(key) \u001b[38;5;28;01mfrom\u001b[39;00m \u001b[38;5;21;01merr\u001b[39;00m\n\u001b[0;32m   3624\u001b[0m \u001b[38;5;28;01mexcept\u001b[39;00m \u001b[38;5;167;01mTypeError\u001b[39;00m:\n\u001b[0;32m   3625\u001b[0m     \u001b[38;5;66;03m# If we have a listlike key, _check_indexing_error will raise\u001b[39;00m\n\u001b[0;32m   3626\u001b[0m     \u001b[38;5;66;03m#  InvalidIndexError. Otherwise we fall through and re-raise\u001b[39;00m\n\u001b[0;32m   3627\u001b[0m     \u001b[38;5;66;03m#  the TypeError.\u001b[39;00m\n\u001b[0;32m   3628\u001b[0m     \u001b[38;5;28mself\u001b[39m\u001b[38;5;241m.\u001b[39m_check_indexing_error(key)\n",
      "\u001b[1;31mKeyError\u001b[0m: 0"
     ]
    }
   ],
   "source": [
    "for df in df_dict.values():\n",
    "   init_time = pd.to_datetime(df.loc[0, 'Time'])\n",
    "   df['Time'] = ((df['DateTime']) - init_time) / pd.Timedelta( seconds=1)\n"
   ]
  }
 ],
 "metadata": {
  "kernelspec": {
   "display_name": "Python 3 (ipykernel)",
   "language": "python",
   "name": "python3"
  },
  "language_info": {
   "codemirror_mode": {
    "name": "ipython",
    "version": 3
   },
   "file_extension": ".py",
   "mimetype": "text/x-python",
   "name": "python",
   "nbconvert_exporter": "python",
   "pygments_lexer": "ipython3",
   "version": "3.9.12"
  }
 },
 "nbformat": 4,
 "nbformat_minor": 2
}
